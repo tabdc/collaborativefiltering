{
 "cells": [
  {
   "cell_type": "markdown",
   "id": "62975aad",
   "metadata": {},
   "source": [
    "## Project 1 - Matrix Factorization and Collaborative Filtering\n",
    "by Telmo Cunha (73487) - 04/04/2022"
   ]
  },
  {
   "cell_type": "markdown",
   "id": "682e6169",
   "metadata": {
    "tags": []
   },
   "source": [
    "## Table of contents\n",
    "1. [Constructing the Ratings Matrix](#1)\n",
    "2. [Constructing Training & Test Sets](#2)\n",
    "3. [SVD: Factorization](#3)\n",
    "4. [SVD: Reconstruction Errors](#4)\n",
    "5. [SVD: Recommendation System](#5)\n",
    "6. [SVD: Latent Space Projections](#6)\n",
    "7. [Algorithm 1: Non-negative Matrix Factorization](#7)\n",
    "8. [Algorithm 1: Reconstruction Errors](#8)\n",
    "9. [Algorithm 1: Recommendation System](#9)\n",
    "10. [Algorithm 1: Latent Space Projections](#10)\n",
    "11. [NNALS: Factorization](#11)\n",
    "12. [NNALS: Reconstruction Errors](#12)\n",
    "13. [NNALS: Recommendation System](#13)\n",
    "14. [NNALS: Latent Space Projections](#14)"
   ]
  },
  {
   "cell_type": "markdown",
   "id": "696861e3-de22-4137-b97b-933bf8924c15",
   "metadata": {
    "tags": []
   },
   "source": [
    "## Constructing the Ratings Matrix <a name=\"1\"></a>"
   ]
  },
  {
   "cell_type": "code",
   "execution_count": 1,
   "id": "72fa5e2d",
   "metadata": {},
   "outputs": [],
   "source": [
    "#all necessary libraries\n",
    "import numpy as np\n",
    "from numpy import random\n",
    "import matplotlib.pyplot as plt\n",
    "import time\n",
    "import random"
   ]
  },
  {
   "cell_type": "code",
   "execution_count": 2,
   "id": "da00aa9d",
   "metadata": {
    "jupyter": {
     "source_hidden": true
    },
    "tags": []
   },
   "outputs": [],
   "source": [
    "def read_csv(file_name):\n",
    "    \"\"\"\n",
    "    Input: String with the file name (which should be on the same folder as the notebook).\n",
    "    Output: List where each entry contains a string of the form \"userid, movieid, rating, timestamp\".\n",
    "    \"\"\"\n",
    "    \n",
    "    #utf8 encoding is necessary to properly read characters in the movies.csv file\n",
    "    with open(\"./\"+file_name, \"r\",encoding=\"utf8\") as file:\n",
    "            lines = file.readlines()\n",
    "            \n",
    "    return lines"
   ]
  },
  {
   "cell_type": "code",
   "execution_count": 3,
   "id": "bc0c6710",
   "metadata": {
    "jupyter": {
     "source_hidden": true
    },
    "tags": []
   },
   "outputs": [],
   "source": [
    "def delete_header(data):\n",
    "    \"\"\"\n",
    "    Input: List read from read_csv().\n",
    "    Output: The same list with the first element removed, which containts \"userid, movieid, rating, timestamp\".\n",
    "    \"\"\"\n",
    "    \n",
    "    del data[0]\n",
    "    \n",
    "    return data"
   ]
  },
  {
   "cell_type": "code",
   "execution_count": 4,
   "id": "4719b3b9",
   "metadata": {
    "jupyter": {
     "source_hidden": true
    },
    "tags": []
   },
   "outputs": [],
   "source": [
    "def line_split(data):\n",
    "    \"\"\"\n",
    "    Input: List of data\n",
    "    Output: List of lists by separating the data in each line using ',', i.e. we obtain [[userid], [movieid], [rating], [timestamp]]\n",
    "    \"\"\"\n",
    "    \n",
    "    data_list=[]\n",
    "    \n",
    "    for i in range(0,len(data)):\n",
    "        data_list.append(data[i].split(','))\n",
    "        \n",
    "    return data_list"
   ]
  },
  {
   "cell_type": "code",
   "execution_count": 5,
   "id": "d29fd7c7",
   "metadata": {
    "jupyter": {
     "source_hidden": true
    },
    "tags": []
   },
   "outputs": [],
   "source": [
    "#This is implemented as a general function, i.e. finds the unique ids for the users. In practice since the original\n",
    "#file is sorted by user id and includes all users we could just take the last value. \n",
    "def counting_user_ids(data):\n",
    "    \"\"\"\n",
    "    Input: List of data after using line_split(). \n",
    "    Output: Number of unique users id.\n",
    "    \"\"\"\n",
    "    \n",
    "    unique_user_ids=[]\n",
    "    num_ids=0\n",
    "    \n",
    "    for i in range(0,len(data)):\n",
    "        if((data[i][0] in unique_user_ids)==False):\n",
    "            unique_user_ids.append(data[i][0])\n",
    "            num_ids+=1\n",
    "            \n",
    "    #No need to return the list of unique_user_ids but we could if the users were a subset of a larger set of data\n",
    "    #and we needed to compare.\n",
    "            \n",
    "    return num_ids"
   ]
  },
  {
   "cell_type": "code",
   "execution_count": 6,
   "id": "275dae75",
   "metadata": {
    "jupyter": {
     "source_hidden": true
    },
    "tags": []
   },
   "outputs": [],
   "source": [
    "def counting_movie_ids(data):\n",
    "    \"\"\"\n",
    "    Input: List of data after using line_split(). \n",
    "    Output: Number of unique movie ids and a sorted list with movie ids.\n",
    "    \"\"\"\n",
    "    unique_movie_ids=[]\n",
    "    num_ids=0\n",
    "    for i in range(0,len(data)):\n",
    "            if((int(data[i][1]) in unique_movie_ids)==False):\n",
    "                unique_movie_ids.append(int(data[i][1]))\n",
    "                num_ids+=1\n",
    "                \n",
    "    #Sort from lowest to highest movie id\n",
    "    unique_movie_ids=np.sort(unique_movie_ids)\n",
    "    \n",
    "    return num_ids, unique_movie_ids"
   ]
  },
  {
   "cell_type": "code",
   "execution_count": 7,
   "id": "5a9acf8d-a6b0-4456-bbe4-f7f4d57fecf9",
   "metadata": {
    "tags": []
   },
   "outputs": [],
   "source": [
    "#tag=avg to compute movie avg, skip by default\n",
    "def generate_R_matrix(num_user_ids,num_movie_ids,data,unique_movies_list,value=0):\n",
    "    \"\"\"\n",
    "    Input: # of user ids, # of movie ids, data after line_split(), list of unique movie ids, value to replace in\n",
    "    unknown matrix entries, tag to implement average of each movie rated (tag=avg) or tag=skip to use value.\n",
    "    Ouput: numpy matrix with ratings and value (or movie avg) on missing values .\n",
    "    \"\"\"\n",
    "    \n",
    "    #initializing with value\n",
    "    R_matrix=np.full((num_movie_ids,num_user_ids),float(value))\n",
    "  \n",
    "    for i in range(0,len(data)):\n",
    "        index=np.where(unique_movies_list==int(data[i][1]))\n",
    "        index=int(index[0])\n",
    "        R_matrix[index,int(data[i][0])-1]=float(data[i][2])\n",
    "\n",
    "    return R_matrix"
   ]
  },
  {
   "cell_type": "code",
   "execution_count": 8,
   "id": "eaab0b1f",
   "metadata": {},
   "outputs": [],
   "source": [
    "def movie_avg(R_matrix_orig):\n",
    "    \"\"\"\n",
    "    Input: Original R_matrix\n",
    "    Ouput: R_matrix with unknown values replaced by the average rating\n",
    "    \"\"\"\n",
    "    \n",
    "    R_matrix=np.zeros((num_movie_ids,num_user_ids))\n",
    "\n",
    "    for i in range(R_matrix_orig.shape[0]):\n",
    "        \n",
    "        #this is initiated to 1 to avoid division by zero later when building a train set in case all ratings\n",
    "        #of a specific movie are removed to a test set\n",
    "        user_count=1\n",
    "        sum=0\n",
    "        for j in range(R_matrix_orig.shape[1]):\n",
    "            if(R_matrix_orig[i][j]!=0):\n",
    "                user_count+=1\n",
    "                sum+=R_matrix_orig[i][j]\n",
    "            \n",
    "        R_matrix[i,:]=np.round(float(sum)/user_count,2)\n",
    "        \n",
    "    for i in range(R_matrix_orig.shape[0]):\n",
    "        for j in range(R_matrix_orig.shape[1]):\n",
    "\n",
    "            if (R_matrix_orig[i][j]!=0):\n",
    "                R_matrix[i][j]=R_matrix_orig[i][j]\n",
    "                \n",
    "    return R_matrix"
   ]
  },
  {
   "cell_type": "code",
   "execution_count": 9,
   "id": "23aaad58",
   "metadata": {
    "tags": []
   },
   "outputs": [
    {
     "name": "stdout",
     "output_type": "stream",
     "text": [
      "Number of user ids:  610\n",
      "Number of rated movie ids:  9724\n",
      "Number of data points:  100836\n",
      "\n",
      "R_orig=\n",
      " [[4.  0.  0.  ... 2.5 3.  5. ]\n",
      " [0.  0.  0.  ... 2.  0.  0. ]\n",
      " [4.  0.  0.  ... 2.  0.  0. ]\n",
      " ...\n",
      " [0.  0.  0.  ... 0.  0.  0. ]\n",
      " [0.  0.  0.  ... 0.  0.  0. ]\n",
      " [0.  0.  0.  ... 0.  0.  0. ]]\n",
      "-------------------\n",
      "\n",
      "R_value=\n",
      " [[4.  0.5 0.5 ... 2.5 3.  5. ]\n",
      " [0.5 0.5 0.5 ... 2.  0.5 0.5]\n",
      " [4.  0.5 0.5 ... 2.  0.5 0.5]\n",
      " ...\n",
      " [0.5 0.5 0.5 ... 0.5 0.5 0.5]\n",
      " [0.5 0.5 0.5 ... 0.5 0.5 0.5]\n",
      " [0.5 0.5 0.5 ... 0.5 0.5 0.5]]\n",
      "-------------------\n",
      "\n",
      "R_avg=\n",
      " [[4.   3.9  3.9  ... 2.5  3.   5.  ]\n",
      " [3.4  3.4  3.4  ... 2.   3.4  3.4 ]\n",
      " [4.   3.2  3.2  ... 2.   3.2  3.2 ]\n",
      " ...\n",
      " [1.75 1.75 1.75 ... 1.75 1.75 1.75]\n",
      " [1.75 1.75 1.75 ... 1.75 1.75 1.75]\n",
      " [2.   2.   2.   ... 2.   2.   2.  ]]\n"
     ]
    }
   ],
   "source": [
    "#test file to test implementation of a smaller matrix (to confirm its working correctly)\n",
    "#file_name=\"ratings_test.csv\"\n",
    "\n",
    "file_name=\"ratings.csv\"\n",
    "\n",
    "data=read_csv(file_name)\n",
    "data=delete_header(data)\n",
    "data=line_split(data)\n",
    "\n",
    "num_user_ids=counting_user_ids(data)\n",
    "num_movie_ids, unique_movies_list=counting_movie_ids(data)\n",
    "    \n",
    "print(\"Number of user ids: \",num_user_ids)\n",
    "print(\"Number of rated movie ids: \",num_movie_ids)\n",
    "print(\"Number of data points: \", len(data))\n",
    "\n",
    "#value=the value which unavailable ratings shall take\n",
    "value=0.5\n",
    "\n",
    "#R_matrix_value with unknown values as value\n",
    "R_matrix_value=generate_R_matrix(num_user_ids,num_movie_ids,data,unique_movies_list,value)\n",
    "\n",
    "#R_matrix with unknown values as 0, used to check which movies were rated or not\n",
    "R_matrix_orig=generate_R_matrix(num_user_ids,num_movie_ids,data,unique_movies_list,0)\n",
    "\n",
    "#R_matrix with unknown values as movie averages\n",
    "R_matrix_avg=movie_avg(R_matrix_orig)\n",
    "\n",
    "print (\"\\nR_orig=\\n\", R_matrix_orig)\n",
    "print(\"-------------------\")\n",
    "print (\"\\nR_value=\\n\", R_matrix_value)\n",
    "print(\"-------------------\")\n",
    "print (\"\\nR_avg=\\n\", R_matrix_avg)"
   ]
  },
  {
   "cell_type": "markdown",
   "id": "acf455d6",
   "metadata": {},
   "source": [
    "## Constructing Training & Test Sets <a name=\"2\"></a>"
   ]
  },
  {
   "cell_type": "code",
   "execution_count": 10,
   "id": "40c23d8e",
   "metadata": {},
   "outputs": [],
   "source": [
    "def build_sets(data,percentage = 0.1):\n",
    "    \"\"\"\n",
    "    Input: List of data and the percentage of data we want for a test set (default=10%).\n",
    "    Output: Returns the training set and test set as matrices\n",
    "    \"\"\"\n",
    "    copy_data=data.copy()\n",
    "    \n",
    "    test_set=[]\n",
    "    train_set=[]\n",
    "    test_number=int(percentage*len(copy_data))\n",
    "    print(\"Number of data points in test set:\", test_number,\"\\n\")\n",
    "    \n",
    "    test_list=random.sample(range(0, len(copy_data)), test_number)\n",
    "    #print(\"test_list: \",test_list)\n",
    "    \n",
    "    #print (\"\\ndata: \", copy_data)\n",
    "    for i in range(0,len(test_list)):\n",
    "        test_set.append(data[test_list[i]])\n",
    "        copy_data[test_list[i]]=\"remove\"\n",
    "    #print (\"\\ndata: \", copy_data)\n",
    "    \n",
    "    for j in range(0,len(copy_data)):\n",
    "        if copy_data[j]!=\"remove\":\n",
    "            train_set.append(copy_data[j])\n",
    "\n",
    "    #change value to filling value if not using movie averages       \n",
    "    train_set_matrix = generate_R_matrix(num_user_ids,num_movie_ids,train_set,unique_movies_list,value=0)\n",
    "    test_set_matrix = generate_R_matrix(num_user_ids,num_movie_ids,test_set,unique_movies_list,value=0)\n",
    "    \n",
    "    return train_set_matrix, test_set_matrix"
   ]
  },
  {
   "cell_type": "markdown",
   "id": "a59f459e",
   "metadata": {},
   "source": [
    "## SVD: Factorization <a name=\"3\"></a>"
   ]
  },
  {
   "cell_type": "code",
   "execution_count": 11,
   "id": "3152245b",
   "metadata": {
    "jupyter": {
     "source_hidden": true
    },
    "tags": []
   },
   "outputs": [],
   "source": [
    "def svd(R_matrix):\n",
    "    \"\"\"\n",
    "    Input: The R_matrix\n",
    "    Output: SVD factorization matrices (R=USVh), note that s is returned as a vector and not as a diagonal matrix\n",
    "    \"\"\"\n",
    "    \n",
    "    u, s, vh = np.linalg.svd(R_matrix, full_matrices=False)\n",
    "    return u, s, vh"
   ]
  },
  {
   "cell_type": "code",
   "execution_count": 12,
   "id": "49a20516",
   "metadata": {
    "jupyter": {
     "source_hidden": true
    },
    "tags": []
   },
   "outputs": [],
   "source": [
    "def svd_dimreduction(u,s,vh,k):\n",
    "    \"\"\"\n",
    "    Input: Factorization matrices from svd, U, Sigma, VT, and the number of singular values to consider.\n",
    "    Output: The sliced matrices corresponding to those k values.\n",
    "    \"\"\"\n",
    "    return u[:,0:k],s[0:k],vh[0:k,:]"
   ]
  },
  {
   "cell_type": "code",
   "execution_count": 13,
   "id": "97f62154",
   "metadata": {
    "jupyter": {
     "source_hidden": true
    },
    "tags": []
   },
   "outputs": [],
   "source": [
    "def rk_reconstruct(u_k,s_k,vh_k):\n",
    "    \"\"\"\n",
    "    Input: Sliced matrices of rank k\n",
    "    Output: The rank k approximation of R\n",
    "    \"\"\"\n",
    "    s_k=np.diag(s_k)\n",
    "    return np.matmul(np.matmul(u_k,s_k),vh_k)"
   ]
  },
  {
   "cell_type": "code",
   "execution_count": 14,
   "id": "9f4b8329",
   "metadata": {
    "jupyter": {
     "source_hidden": true
    },
    "tags": []
   },
   "outputs": [],
   "source": [
    "def calculate_energy(s,energy_value=0.1):\n",
    "    \"\"\"\n",
    "    Input: s-> diagonal of singular value matrix, energy_value-> fraction of data variance captured\n",
    "    Ouput: Returns the k value correspoding to a certain energy value.\n",
    "    \"\"\"\n",
    "    total=float(np.sum(s))\n",
    "    x=0\n",
    "    k=0\n",
    "    for j in s:\n",
    "        x+=j\n",
    "        k+=1\n",
    "        if x/total>energy_value:\n",
    "            break\n",
    "    return k"
   ]
  },
  {
   "cell_type": "markdown",
   "id": "97f0e9d0",
   "metadata": {},
   "source": [
    "## SVD: Reconstruction Errors <a name=\"4\"></a>"
   ]
  },
  {
   "cell_type": "code",
   "execution_count": 15,
   "id": "151f94a3",
   "metadata": {},
   "outputs": [
    {
     "name": "stdout",
     "output_type": "stream",
     "text": [
      "Number of data points in test set: 10083 \n",
      "\n",
      "R_train=\n",
      " [[4.   3.92 3.92 ... 2.5  3.   5.  ]\n",
      " [3.4  3.4  3.4  ... 2.   3.4  3.4 ]\n",
      " [4.   3.2  3.2  ... 2.   3.2  3.2 ]\n",
      " ...\n",
      " [1.75 1.75 1.75 ... 1.75 1.75 1.75]\n",
      " [1.75 1.75 1.75 ... 1.75 1.75 1.75]\n",
      " [2.   2.   2.   ... 2.   2.   2.  ]]\n",
      "------------------------------\n",
      "R_test=\n",
      " [[0. 0. 0. ... 0. 0. 0.]\n",
      " [0. 0. 0. ... 0. 0. 0.]\n",
      " [0. 0. 0. ... 0. 0. 0.]\n",
      " ...\n",
      " [0. 0. 0. ... 0. 0. 0.]\n",
      " [0. 0. 0. ... 0. 0. 0.]\n",
      " [0. 0. 0. ... 0. 0. 0.]]\n",
      "\n",
      "||R_train_avg-R_matrix_avg|| ->  858.3344585299797\n"
     ]
    }
   ],
   "source": [
    "#obtain the train and test matrices\n",
    "train_set_matrix, test_set_matrix=build_sets(data)\n",
    "\n",
    "#using the movie averages, comment and change value in buil_sets if not the case\n",
    "train_set_matrix = movie_avg(train_set_matrix)\n",
    "\n",
    "#perform SVD on the train matrix\n",
    "u,s,vh=svd(train_set_matrix)\n",
    "print(\"R_train=\\n\",train_set_matrix)\n",
    "print(\"------------------------------\")\n",
    "print(\"R_test=\\n\",test_set_matrix)\n",
    "\n",
    "#Confirming high norm value (just to check later results are consistent)\n",
    "print(\"\\n||R_train_avg-R_matrix_avg|| -> \",np.linalg.norm(np.subtract(train_set_matrix,R_matrix_avg)))"
   ]
  },
  {
   "cell_type": "code",
   "execution_count": 16,
   "id": "f8161846",
   "metadata": {},
   "outputs": [],
   "source": [
    "def build_comparison_matrices(R_train,R_test):\n",
    "    \"\"\"\n",
    "    Input: R_train and R_test matrices\n",
    "    Description: Auxiliary function to build matrices for comparison\n",
    "    Ouput: R_train matrices only with entries corresponding to those on the test set\n",
    "    \"\"\"\n",
    "    \n",
    "    new_rtrain=np.zeros((num_movie_ids,num_user_ids))\n",
    "    y=np.transpose(np.nonzero(R_test))\n",
    "\n",
    "    for i in y:\n",
    "        new_rtrain[i[0],i[1]]=R_train[i[0],i[1]]\n",
    "    \n",
    "    return new_rtrain"
   ]
  },
  {
   "cell_type": "code",
   "execution_count": 17,
   "id": "0763f268",
   "metadata": {},
   "outputs": [],
   "source": [
    "#for specific values of k\n",
    "def svd_convergence_k(R_matrix,u,s,vh):\n",
    "    \"\"\"\n",
    "    Input: R_matrix, and u,s,vh decomposition of R_train\n",
    "    Ouput: dictionary of the form {rank k,norm_F(Rk_train-R)}\n",
    "    \"\"\"\n",
    "\n",
    "    k_norm_values_dict = {}\n",
    "\n",
    "    l=np.arange(1,611,1)\n",
    "    \n",
    "    for i in l:\n",
    "        x=0\n",
    "        u_k,s_k,vh_k = svd_dimreduction(u,s,vh,i)\n",
    "        Rk_train_matrix=rk_reconstruct(u_k,s_k,vh_k)\n",
    "        \n",
    "        #comparison with original matrix, ord='fro' -> frobenius norm, ord='nuc' -> nuclear norm \n",
    "        x=np.linalg.norm(np.subtract(Rk_train_matrix,R_matrix),ord='fro')\n",
    "        \n",
    "        print(\"k=\",i,\"done!\")\n",
    "\n",
    "        k_norm_values_dict[i] = round(x,1)\n",
    "          \n",
    "    return k_norm_values_dict"
   ]
  },
  {
   "cell_type": "code",
   "execution_count": 18,
   "id": "819e788e",
   "metadata": {},
   "outputs": [],
   "source": [
    "#for specific values of k\n",
    "def testset_comparison_k(R_test,u,s,vh):\n",
    "    \"\"\"\n",
    "    Input: R_matrix, R_test and u,s,vh decomposition of R_train\n",
    "    Ouput: dictionary of the form {rank k,norm_F(Rk_train-R_test)}\n",
    "    \"\"\"\n",
    "    \n",
    "    k_norm_values_dict = {}\n",
    "\n",
    "    l=np.arange(1,611,1)\n",
    "    \n",
    "    for i in l:\n",
    "        x=0\n",
    "        u_k,s_k,vh_k = svd_dimreduction(u,s,vh,i)\n",
    "        Rk_train_matrix=rk_reconstruct(u_k,s_k,vh_k)\n",
    "        Rk_train_matrix=build_comparison_matrices(Rk_train_matrix,R_test)\n",
    "        Rk_train_matrix=np.round(Rk_train_matrix,1)\n",
    "        \n",
    "        #change ord for different norms\n",
    "        x=np.linalg.norm(np.subtract(Rk_train_matrix,R_test),ord='fro')\n",
    "        \n",
    "        k_norm_values_dict[i] = round(x,1)\n",
    "        \n",
    "        print(\"k=\",i,\"done!\")\n",
    "          \n",
    "    return k_norm_values_dict "
   ]
  },
  {
   "cell_type": "markdown",
   "id": "0d2a1966",
   "metadata": {},
   "source": [
    "### Remove comments on the following two code cells to compute plots"
   ]
  },
  {
   "cell_type": "code",
   "execution_count": 19,
   "id": "76cac7a0",
   "metadata": {
    "scrolled": true
   },
   "outputs": [],
   "source": [
    "##we can input R_matrix_avg/R_matrix/R_matrix_orig but we have to manually alter value on the buildsets function\n",
    "#dic0=svd_convergence_k(train_set_matrix,u,s,vh)\n",
    "#dic1=testset_comparison_k(test_set_matrix,u,s,vh)\n",
    "#print(\"Norm min for test:\",\"k=\", min(dic1, key=dic1.get), \" norm=\", dic1[min(dic1, key=dic1.get)])"
   ]
  },
  {
   "cell_type": "markdown",
   "id": "c74e6dab",
   "metadata": {},
   "source": [
    "### Plot for f=movie_avg (separated graphs)"
   ]
  },
  {
   "cell_type": "code",
   "execution_count": 20,
   "id": "931e9632",
   "metadata": {},
   "outputs": [],
   "source": [
    "##plot specifications\n",
    "#x=list(dic0.keys())\n",
    "#y=list(dic0.values())\n",
    "#fig, (ax1, ax2) = plt.subplots(2)\n",
    "#fig.set_size_inches(18.5, 10.5)\n",
    "##fig.figure(figsize=(20, 10))\n",
    "#ax1.plot(x, y)\n",
    "#plt.xlabel('rank(k)')  # Add an x-label to the axes.\n",
    "#plt.xticks(np.arange(min(x)-1, 610, 20.0))\n",
    "#plt.ylabel('Norm(k)')  # Add a y-label to the axes.\n",
    "#plt.title(\"Frobenius norm as a function of rank; f = movie_avg\")  # Add a title to the axes.\n",
    "##plt.title(\"Nuclear norm as a function of rank\")  # Add a title to the axes.\n",
    "#x=list(dic1.keys())\n",
    "#y=list(dic1.values())\n",
    "#ax2.plot(x, y)"
   ]
  },
  {
   "cell_type": "markdown",
   "id": "5496e6a2",
   "metadata": {},
   "source": [
    "### Plot for f=0.5 (both graphs)"
   ]
  },
  {
   "cell_type": "code",
   "execution_count": 21,
   "id": "4a9df94b",
   "metadata": {},
   "outputs": [],
   "source": [
    "#x=list(dic0.keys())\n",
    "#y=list(dic0.values())\n",
    "#plt.figure(figsize=(20, 10))\n",
    "#plt.plot(x, y)\n",
    "#plt.xlabel('rank(k)')  # Add an x-label to the axes.\n",
    "#plt.xticks(np.arange(0, 621, 20))\n",
    "#plt.ylabel('Norm(k)')  # Add a y-label to the axes.\n",
    "#plt.title(\"Frobenius norm as a function of rank; f = movie_avg\")  # Add a title to the axes.\n",
    "#x=list(dic1.keys())\n",
    "#y=list(dic1.values())\n",
    "##plt.plot(x, y)"
   ]
  },
  {
   "cell_type": "markdown",
   "id": "089b314f",
   "metadata": {},
   "source": [
    "### For specific energy values:"
   ]
  },
  {
   "cell_type": "code",
   "execution_count": 22,
   "id": "c6a4a2e3",
   "metadata": {},
   "outputs": [],
   "source": [
    "#energy based calculations (not actually necessary)\n",
    "def svd_convergence(R_matrix,u,s,vh):\n",
    "    \"\"\"\n",
    "    Input: R_matrix, test_set_matrix and u,s,vh decomposition of R_train\n",
    "    Ouput: dictionary of the form {rank k,norm_F(Rk_train-R_matrix) for significance values in 0.1 increments}\n",
    "    \"\"\"\n",
    "\n",
    "    k_norm_values_dict = {}\n",
    "\n",
    "    l=np.arange(0.1,1.1,0.1)\n",
    "    \n",
    "    for i in l:\n",
    "        x=0\n",
    "        k=calculate_energy(s,energy_value=i)\n",
    "        u_k,s_k,vh_k = svd_dimreduction(u,s,vh,k)\n",
    "        Rk_train_matrix=rk_reconstruct(u_k,s_k,vh_k)\n",
    "        #print(\"Rk_train:\\n\", np.matrix.round(Rk_train_matrix,2))\n",
    "        \n",
    "        #comparison with original matrix\n",
    "        x=np.linalg.norm(np.subtract(Rk_train_matrix,R_matrix))\n",
    "    \n",
    "        k_norm_values_dict[k] = round(x,1)\n",
    "    \n",
    "        print(\"For rank =\", k , \", corresponding to\",round(i,1),\"significance of the data, we have:\" , \"Norm = \", round(x,1))\n",
    "        \n",
    "    return k_norm_values_dict"
   ]
  },
  {
   "cell_type": "code",
   "execution_count": 23,
   "id": "0d158e30",
   "metadata": {},
   "outputs": [],
   "source": [
    "#energy based calculations (not actually necessary)\n",
    "def testset_comparison(R_matrix,test_set_matrix,u,s,vh):\n",
    "    \"\"\"\n",
    "    Input: R_matrix, test_set_matrix and u,s,vh decomposition of R_train\n",
    "    Ouput: dictionary of the form {rank k,norm_F(Rk_train-R_test) for significance values in 0.1 increments}\n",
    "    \"\"\"\n",
    "\n",
    "    k_norm_values_dict = {}\n",
    "\n",
    "    l=np.arange(0.1,1.1,0.1)\n",
    "    \n",
    "    for i in l:\n",
    "        x=0\n",
    "        k=calculate_energy(s,energy_value=i)\n",
    "        u_k,s_k,vh_k = svd_dimreduction(u,s,vh,k)\n",
    "        Rk_train_matrix=rk_reconstruct(u_k,s_k,vh_k)\n",
    "        \n",
    "        #comparing entries with test set\n",
    "        y=np.transpose(np.nonzero(test_set_matrix))\n",
    "        for j in y:\n",
    "\n",
    "            x+=np.power(test_set_matrix[j[0],j[1]]-Rk_train_matrix[j[0],j[1]],2)\n",
    "        x=np.sqrt(x)\n",
    "        \n",
    "        #print(\"Norm of test matrix:\", np.linalg.norm(test_set_matrix))\n",
    "        k_norm_values_dict[k] = round(x,1) \n",
    "        print(\"For rank =\", k , \", corresponding to\",round(i,1),\"significance of the data, we have:\" , \"Norm = \", round(x,1))\n",
    "        \n",
    "    return k_norm_values_dict "
   ]
  },
  {
   "cell_type": "code",
   "execution_count": 24,
   "id": "ee2267a1-5d48-4284-9e68-618577943745",
   "metadata": {},
   "outputs": [],
   "source": [
    "#dict1=svd_convergence(R_matrix_avg,u,s,vh)\n",
    "#print(\"---------------------------------------------------------------\")\n",
    "#dict2=testset_comparison(R_matrix_avg,test_set_matrix,u,s,vh)"
   ]
  },
  {
   "cell_type": "code",
   "execution_count": 25,
   "id": "fb467c05-2986-4ac1-90a3-92f3f80a6135",
   "metadata": {},
   "outputs": [],
   "source": [
    "#x=list(dict1.keys())\n",
    "#y=list(dict1.values())\n",
    "#plt.plot(x, y)\n",
    "#plt.xlabel('rank(k)')  # Add an x-label to the axes.\n",
    "#plt.ylabel('Norm(k)')  # Add a y-label to the axes.\n",
    "#plt.title(\"Frobenius norm as a function of rank\")  # Add a title to the axes.\n",
    "#\n",
    "#x=list(dict2.keys())\n",
    "#y=list(dict2.values())\n",
    "#plt.plot(x, y)\n",
    "#plt.xlabel('rank(k)')  # Add an x-label to the axes.\n",
    "#plt.ylabel('Norm(k)')  # Add a y-label to the axes.\n",
    "#plt.title(\"Frobenius norm as a function of rank\")  # Add a title to the axes."
   ]
  },
  {
   "cell_type": "markdown",
   "id": "28dd6e0d",
   "metadata": {},
   "source": [
    "## SVD: Recommendation System <a name=\"5\"></a>"
   ]
  },
  {
   "cell_type": "code",
   "execution_count": 26,
   "id": "e367d205",
   "metadata": {},
   "outputs": [],
   "source": [
    "#IMPORTANT REMARK: Since there are movie names with commas (,) we formatted the original csv file to replace the commas with .\n",
    "#since this causes a conflict with the commas separating column values when reading a csv.\n",
    "#The anexed movies.csv should be used.\n",
    "\n",
    "file_name=\"movies.csv\"\n",
    "movie_list=read_csv(file_name)\n",
    "movie_list=delete_header(movie_list)\n",
    "movie_list=line_split(movie_list)"
   ]
  },
  {
   "cell_type": "code",
   "execution_count": 27,
   "id": "9b150185",
   "metadata": {},
   "outputs": [],
   "source": [
    "# we use cosine similarity since we are interested on those movies which have the same direction\n",
    "# in the latent space\n",
    "def cosine_sim(a,b):\n",
    "    \"\"\"\n",
    "    Input: two vectors (a,b)\n",
    "    Ouput: returns cos theta=<a.b>/(||a||.||b||)\n",
    "    \"\"\"\n",
    "    \n",
    "    norm_a=np.linalg.norm(a)\n",
    "    norm_b=np.linalg.norm(b)\n",
    "    \n",
    "    cos_sim = np.dot(a, b)/(np.linalg.norm(a)*np.linalg.norm(b))\n",
    "    return cos_sim"
   ]
  },
  {
   "cell_type": "code",
   "execution_count": 28,
   "id": "2d36e873",
   "metadata": {
    "tags": []
   },
   "outputs": [],
   "source": [
    "def recommend_movies_based_on_movie_svd(movie_id,R_matrix,unique_movies_list):\n",
    "    \"\"\"\n",
    "    Input: movie_id we want to compare, R_matrix, list with index-movie id correspondence\n",
    "    Ouput: None, however the function prints the top 10 results similar to movie id\n",
    "    \"\"\"\n",
    "    \n",
    "    u, s, vh = svd(R_matrix)\n",
    "    \n",
    "    #using the best rank k obtained from previous analysis for SVD\n",
    "    k=12\n",
    "    u_k,s_k,vh_k = svd_dimreduction(u,s,vh,k)\n",
    "    \n",
    "    #multiply u_k with s_k most likely\n",
    "    \n",
    "    sim = np.zeros(shape=(num_movie_ids,2))\n",
    "    movie_id_index=np.where(unique_movies_list==movie_id)\n",
    "    movie_id_index=int(movie_id_index[0])\n",
    "    \n",
    "    for i in range(num_movie_ids):\n",
    "        sim[i][0]=cosine_sim(u_k[movie_id_index,:],u_k[i,:])\n",
    "        sim[i][1]=unique_movies_list[i]\n",
    "    \n",
    "    #sorts from lowest to highest\n",
    "    sim=sim[sim[:, 0].argsort()]\n",
    "    \n",
    "    for i in range(len(movie_list)):\n",
    "        if(int(movie_list[i][0])==movie_id):\n",
    "            print(\"\\nRecommendations similar to:\", movie_list[i][1])\n",
    "    \n",
    "    for i in range(11):\n",
    "        for j in range(len(movie_list)):\n",
    "            #we use sim.shape[0]-(1+i) because sort was lost to high\n",
    "            if(int(sim[sim.shape[0]-(1+i)][1])== int(movie_list[j][0])):\n",
    "                if(i==0):\n",
    "                    print(\"\")\n",
    "                    #print(\"Printing highest to confirm it's working as intended:\",movie_list[j][1],\"Similarity:\", np.round(sim[sim.shape[0]-(1+i)][0],2))\n",
    "                elif (i>0):\n",
    "                    print(i,')', movie_list[j][1],\"Similarity:\", np.round(sim[sim.shape[0]-(1+i)][0],2))\n",
    "    return None"
   ]
  },
  {
   "cell_type": "markdown",
   "id": "cf2dd0f3",
   "metadata": {},
   "source": [
    "### Recommendation for movies"
   ]
  },
  {
   "cell_type": "code",
   "execution_count": 29,
   "id": "04355b77",
   "metadata": {},
   "outputs": [
    {
     "name": "stdout",
     "output_type": "stream",
     "text": [
      "\n",
      "Recommendations similar to: Lord of the Rings: The Fellowship of the Ring. The (2001)\n",
      "\n",
      "1 ) Lord of the Rings: The Two Towers. The (2002) Similarity: 0.96\n",
      "2 ) Lord of the Rings: The Return of the King. The (2003) Similarity: 0.88\n",
      "3 ) Memento (2000) Similarity: 0.85\n",
      "4 ) Lemony Snicket's A Series of Unfortunate Events (2004) Similarity: 0.84\n",
      "5 ) District 9 (2009) Similarity: 0.82\n",
      "6 ) Number 23. The (2007) Similarity: 0.82\n",
      "7 ) Seven (a.k.a. Se7en) (1995) Similarity: 0.8\n",
      "8 ) Zootopia (2016) Similarity: 0.78\n",
      "9 ) Rise of the Planet of the Apes (2011) Similarity: 0.78\n",
      "10 ) Iron Man 3 (2013) Similarity: 0.76\n"
     ]
    }
   ],
   "source": [
    "#TESTS\n",
    "#The Matrix\n",
    "#recommend_movies_based_on_movie_svd(2571,R_matrix_avg,unique_movies_list)\n",
    "#Lord of the Rings: The Fellowship of the Ring\n",
    "recommend_movies_based_on_movie_svd(4993,R_matrix_avg,unique_movies_list)\n",
    "#Pulp Fiction\n",
    "#recommend_movies_based_on_movie_svd(296,R_matrix_avg,unique_movies_list)"
   ]
  },
  {
   "cell_type": "code",
   "execution_count": 30,
   "id": "88bf790b",
   "metadata": {},
   "outputs": [
    {
     "name": "stdout",
     "output_type": "stream",
     "text": [
      "\n",
      "Recommendations similar to: Star Wars: Episode IV - A New Hope (1977)\n",
      "\n",
      "1 ) Star Wars: Episode V - The Empire Strikes Back (1980) Similarity: 0.96\n",
      "2 ) Star Wars: Episode VI - Return of the Jedi (1983) Similarity: 0.94\n",
      "3 ) Die Hard (1988) Similarity: 0.89\n",
      "4 ) Raiders of the Lost Ark (Indiana Jones and the Raiders of the Lost Ark) (1981) Similarity: 0.85\n",
      "5 ) Gladiator (2000) Similarity: 0.8\n",
      "6 ) Austin Powers: The Spy Who Shagged Me (1999) Similarity: 0.79\n",
      "7 ) Bug's Life. A (1998) Similarity: 0.77\n",
      "8 ) Seven (a.k.a. Se7en) (1995) Similarity: 0.77\n",
      "9 ) Indiana Jones and the Last Crusade (1989) Similarity: 0.77\n",
      "10 ) Flintstones in Viva Rock Vegas. The (2000) Similarity: 0.76\n"
     ]
    }
   ],
   "source": [
    "#Star Wars: Episode IV - A New Hope (1977) - sic-fi/many sequels - average vs specific value\n",
    "#R_matrix_avg\n",
    "recommend_movies_based_on_movie_svd(260,R_matrix_avg,unique_movies_list)"
   ]
  },
  {
   "cell_type": "code",
   "execution_count": 31,
   "id": "fe9b48f1",
   "metadata": {},
   "outputs": [],
   "source": [
    "def recommend_movies_based_on_user_svd(user_id,R_matrix_orig,R_matrix,unique_movies_list):\n",
    "    \"\"\"\n",
    "    Input: user_id we want to predict ratings, R_matrix, list with index-movie id correspondence\n",
    "    Ouput: None, however the function prints the top 10 movies for user with user_id\n",
    "    \"\"\"\n",
    "    \n",
    "    u, s, vh = svd(R_matrix)\n",
    "    \n",
    "    #using the best rank k obtained from previous analysis for SVD\n",
    "    k=9\n",
    "    u_k,s_k,vh_k = svd_dimreduction(u,s,vh,k)\n",
    "    Rk=rk_reconstruct(u_k,s_k,vh_k)\n",
    "    \n",
    "    #2d list with ratings obtained from Rk and corresponding movie index\n",
    "    ratings_movieid=np.zeros(shape=(num_movie_ids,2))\n",
    "    \n",
    "    for i in range(num_movie_ids):\n",
    "        #record only unseen movies, i.e. 0 rating on original R matrix\n",
    "        if(R_matrix_orig[i][user_id-1]==0):\n",
    "            ratings_movieid[i][0]=Rk[i][user_id-1]\n",
    "            #getting movie id from index using unique_movies_list\n",
    "            ratings_movieid[i][1]=unique_movies_list[i]\n",
    "    \n",
    "    ratings_movieid=ratings_movieid[ratings_movieid[:, 0].argsort()]\n",
    "    \n",
    "    print(\"Expected ratings for user:\",user_id)\n",
    "    \n",
    "    for i in range(10):\n",
    "        for j in range(len(movie_list)):\n",
    "            if(int(ratings_movieid[ratings_movieid.shape[0]-(i+1)][1])== int(movie_list[j][0])):     \n",
    "                print(i+1,':', movie_list[j][1], \"-> Expected rating:\",np.round(ratings_movieid[ratings_movieid.shape[0]-(i+1)][0],2))\n",
    "                \n",
    "    return None"
   ]
  },
  {
   "cell_type": "markdown",
   "id": "fd6e4fcd",
   "metadata": {},
   "source": [
    "### Recommendation for user"
   ]
  },
  {
   "cell_type": "code",
   "execution_count": 32,
   "id": "a191a2fc",
   "metadata": {
    "scrolled": true
   },
   "outputs": [
    {
     "name": "stdout",
     "output_type": "stream",
     "text": [
      "Expected ratings for user: 134\n",
      "1 : Shawshank Redemption. The (1994) -> Expected rating: 4.42\n",
      "2 : Streetcar Named Desire. A (1951) -> Expected rating: 4.27\n",
      "3 : Godfather. The (1972) -> Expected rating: 4.26\n",
      "4 : Fight Club (1999) -> Expected rating: 4.24\n",
      "5 : Godfather: Part II. The (1974) -> Expected rating: 4.22\n",
      "6 : Goodfellas (1990) -> Expected rating: 4.22\n",
      "7 : Three Billboards Outside Ebbing. Missouri (2017) -> Expected rating: 4.22\n",
      "8 : Usual Suspects. The (1995) -> Expected rating: 4.22\n",
      "9 : Dr. Strangelove or: How I Learned to Stop Worrying and Love the Bomb (1964) -> Expected rating: 4.21\n",
      "10 : Secrets & Lies (1996) -> Expected rating: 4.21\n"
     ]
    }
   ],
   "source": [
    "#Note that expected ratings may have a rating larger than 5\n",
    "recommend_movies_based_on_user_svd(134,R_matrix_orig,R_matrix_avg,unique_movies_list)"
   ]
  },
  {
   "cell_type": "markdown",
   "id": "6cebcb91",
   "metadata": {},
   "source": [
    "## SVD: Latent Space Projections <a name=\"6\"></a>"
   ]
  },
  {
   "cell_type": "code",
   "execution_count": 33,
   "id": "dbf34e75",
   "metadata": {},
   "outputs": [],
   "source": [
    "def latent_space_proj_svd(n,R_matrix,unique_movies_list):\n",
    "    \"\"\"\n",
    "    Input: n-> number of movies, R_matrix, unique_movies_list\n",
    "    Ouput: Returns the coords of each movie (for latent space of dim2) and the corresponding movie id\n",
    "    in two separate lists\n",
    "    \"\"\"\n",
    "    \n",
    "    #x-coordinate sigma1\n",
    "    #y-coordinate sigma2\n",
    "        \n",
    "    u,s,vh = svd(R_matrix)\n",
    "    \n",
    "    k=12\n",
    "    u_k,s_k,vh_k = svd_dimreduction(u,s,vh,k)\n",
    "    \n",
    "    M=u_k\n",
    "    \n",
    "    #generate indices of movies\n",
    "    l=np.arange(0,num_movie_ids)\n",
    "    l=np.ndarray.tolist(l)\n",
    "    \n",
    "    #contains the coords of 100 movies\n",
    "    movies_coords=np.zeros(shape=(n,2))\n",
    "    \n",
    "    #Draw n random movies\n",
    "    movie_indices=random.sample(l,n)\n",
    "\n",
    "    movie_indices.sort()\n",
    "    \n",
    "    j=0\n",
    "    for i in movie_indices:\n",
    "        movies_coords[j][0]=M[i][0]\n",
    "        movies_coords[j][1]=M[i][1]\n",
    "        j+=1\n",
    "        \n",
    "    #recover movie ids from indices\n",
    "    movie_ids=[]\n",
    "    for i in movie_indices:\n",
    "        movie_ids.append(unique_movies_list[i])\n",
    "        \n",
    "    return movies_coords, movie_ids"
   ]
  },
  {
   "cell_type": "markdown",
   "id": "252bb4a2",
   "metadata": {},
   "source": [
    "#### Plot of Latent Space for SVD (random)"
   ]
  },
  {
   "cell_type": "code",
   "execution_count": 34,
   "id": "7b5517fd",
   "metadata": {
    "scrolled": false
   },
   "outputs": [
    {
     "data": {
      "text/plain": [
       "<matplotlib.collections.PathCollection at 0x1d8b5ebd940>"
      ]
     },
     "execution_count": 34,
     "metadata": {},
     "output_type": "execute_result"
    },
    {
     "data": {
      "image/png": "[encoded data removed]",
      "text/plain": [
       "<Figure size 720x720 with 1 Axes>"
      ]
     },
     "metadata": {
      "needs_background": "light"
     },
     "output_type": "display_data"
    }
   ],
   "source": [
    "#n-> number of movies to plot\n",
    "n=1000\n",
    "\n",
    "#R_matrix_avg/R_matrix_value/R_matrix_orig\n",
    "movie_coords,movie_ids=latent_space_proj_svd(n,R_matrix_avg,unique_movies_list)\n",
    "plt.figure(figsize=(10, 10))\n",
    "plt.scatter(movie_coords[:,0], movie_coords[:,1])\n",
    "\n",
    "##prints movie names on points\n",
    "#for i in range(movie_coords.shape[0]):\n",
    "#    for j in range(len(movie_list)):\n",
    "#        if(movie_list[j][0]==str(movie_ids[i])):\n",
    "#            index=j\n",
    "#    plt.text(movie_coords[i][0],movie_coords[i][1],movie_list[index][1])"
   ]
  },
  {
   "cell_type": "code",
   "execution_count": 35,
   "id": "ad5f46d4",
   "metadata": {},
   "outputs": [],
   "source": [
    "def latent_space_proj_svd_test(R_matrix,unique_movies_list):\n",
    "    \"\"\"\n",
    "    Input: n-> number of movies, R_matrix, unique_movies_list\n",
    "    Ouput: Returns the coords of each movie (for latent space of dim2) and the corresponding movie id\n",
    "    in two separate lists\n",
    "    \"\"\"\n",
    "    \n",
    "    u,s,vh = svd(R_matrix)\n",
    "    \n",
    "    k=12\n",
    "    u_k,s_k,vh_k = svd_dimreduction(u,s,vh,k)\n",
    "    \n",
    "    M=u_k\n",
    "    \n",
    "    #change here the number of movies\n",
    "    n=14\n",
    "    movies_coords=np.zeros(shape=(n,2))\n",
    "                           \n",
    "    movie_ids=[]\n",
    "    \n",
    "    ###########################################################################\n",
    "    #Defining specific movies for interpretation\n",
    "    \n",
    "    #sci-fi / fantasy\n",
    "    #Blade Runner (1982)\n",
    "    movie_ids.append(541)\n",
    "    #Star Wars: Episode V - The Empire Strikes Back (1980)\n",
    "    movie_ids.append(1196)\n",
    "    #Matrix. The (1999)                       \n",
    "    movie_ids.append(2571)\n",
    "    #Lord of the Rings: The Fellowship of the Ring. The (2001)                     \n",
    "    movie_ids.append(4993)\n",
    "    #Lord of the Rings: The Two Towers. The (2002)                       \n",
    "    movie_ids.append(5952)\n",
    "    #Lord of the Rings: The Return of the King. The (2003)                       \n",
    "    movie_ids.append(7153)\n",
    "    \n",
    "    #nonfiction\n",
    "    #Dead Man Walking (1995)\n",
    "    movie_ids.append(36)\n",
    "    #Three Billboards Outside Ebbing. Missouri (2017)\n",
    "    movie_ids.append(177593)\n",
    "    \n",
    "    #horror movies\n",
    "    #The Shining (1997)                       \n",
    "    movie_ids.append(180263)\n",
    "    #Babadook. The (2014)                       \n",
    "    movie_ids.append(112515)\n",
    "    #Candyman: Farewell to the Flesh (1995)\n",
    "    movie_ids.append(606)\n",
    "    \n",
    "    #dramas/romance\n",
    "    #Pride and Prejudice (1995)\n",
    "    movie_ids.append(7669)\n",
    "    #Titanic (1997)\n",
    "    movie_ids.append(1721)\n",
    "    \n",
    "    #comedy/animation\n",
    "    #Ice Age (2002)\n",
    "    movie_ids.append(5218)\n",
    "    ###########################################################################\n",
    "    \n",
    "    \n",
    "    #get indices from movie ids\n",
    "    movie_index=[]\n",
    "    \n",
    "    for i in movie_ids:\n",
    "        movie_index.append(int(np.where(unique_movies_list==i)[0]))\n",
    "\n",
    "    j=0\n",
    "    for i in movie_index:\n",
    "        movies_coords[j][0]=M[i][0]\n",
    "        movies_coords[j][1]=M[i][1]\n",
    "        j+=1\n",
    "    \n",
    "    return movies_coords, movie_ids"
   ]
  },
  {
   "cell_type": "markdown",
   "id": "8c55113b",
   "metadata": {},
   "source": [
    "#### Plot of Latent Space for SVD (not-random)"
   ]
  },
  {
   "cell_type": "code",
   "execution_count": 36,
   "id": "829b1d5d",
   "metadata": {},
   "outputs": [
    {
     "data": {
      "image/png": "[encoded data removed]",
      "text/plain": [
       "<Figure size 720x720 with 1 Axes>"
      ]
     },
     "metadata": {
      "needs_background": "light"
     },
     "output_type": "display_data"
    }
   ],
   "source": [
    "movie_coords,movie_ids=latent_space_proj_svd_test(R_matrix_avg,unique_movies_list)\n",
    "\n",
    "plt.figure(figsize=(10, 10))\n",
    "plt.scatter(movie_coords[:,0], movie_coords[:,1])\n",
    "\n",
    "#prints movie names on points\n",
    "for i in range(movie_coords.shape[0]):\n",
    "    for j in range(len(movie_list)):\n",
    "        if(movie_list[j][0]==str(movie_ids[i])):\n",
    "            index=j\n",
    "    plt.text(movie_coords[i][0],movie_coords[i][1],movie_list[index][1])"
   ]
  },
  {
   "cell_type": "markdown",
   "id": "c8a4650e",
   "metadata": {},
   "source": [
    "## Algorithm 1: Non-negative Matrix Factorization <a name=\"7\"></a>"
   ]
  },
  {
   "cell_type": "code",
   "execution_count": 37,
   "id": "d50f3597",
   "metadata": {},
   "outputs": [],
   "source": [
    "#remove division by zero warnings\n",
    "np.seterr(divide='ignore', invalid='ignore')\n",
    "def nnmf(R_train,k):\n",
    "    \"\"\"\n",
    "    Input: R_train (training matrix) and rank k (dim of latent space)\n",
    "    Ouput: Returns the factorization matrices M,U (R~MU)\n",
    "    \"\"\"\n",
    "    \n",
    "    a=time.time()\n",
    "    \n",
    "    M=np.random.random((R_train.shape[0],k))\n",
    "    U=np.random.random((k,R_train.shape[1]))\n",
    "    \n",
    "    err=10\n",
    "    c=0\n",
    "    \n",
    "    R0=np.matmul(M,U)\n",
    "    \n",
    "    #lower errors results in really long times for convergence\n",
    "    while(err>2):\n",
    "        \n",
    "        #due to possible division by \"0\" we must replace nan values\n",
    "        A1=np.matmul(M.T,R_train)\n",
    "        A2=np.matmul(M.T,np.matmul(M,U))\n",
    "        X1=np.divide(A1,A2)\n",
    "        X1=np.nan_to_num(X1,nan=1.0)\n",
    "        \n",
    "        U=np.multiply(U,X1)\n",
    "        \n",
    "        #due to possible division by \"0\" we must replace nan values\n",
    "        B1=np.matmul(R_train,U.T)\n",
    "        B2=np.matmul(M,np.matmul(U,U.T))\n",
    "        X2=np.divide(B1,B2)\n",
    "        X2=np.nan_to_num(X2,nan=1.0)   \n",
    "        \n",
    "        M=np.multiply(M,X2)\n",
    "        \n",
    "        R1=np.matmul(M,U)\n",
    "        Z=np.subtract(R1,R0)\n",
    "        err=np.linalg.norm(Z,ord='fro')\n",
    "\n",
    "        R0=R1\n",
    "        c+=1\n",
    "     \n",
    "    b=time.time()-a\n",
    "    print(\"Number of iterations: \", c)\n",
    "    print(\"Time taken: \", b)\n",
    "\n",
    "    return M,U"
   ]
  },
  {
   "cell_type": "markdown",
   "id": "0135661d",
   "metadata": {},
   "source": [
    "## Algorithm 1: Reconstruction Errors<a name=\"8\"></a>"
   ]
  },
  {
   "cell_type": "code",
   "execution_count": 38,
   "id": "7d2b647f",
   "metadata": {},
   "outputs": [],
   "source": [
    "def nnmf_test(R_train,R_test,R_matrix):\n",
    "    \"\"\"\n",
    "    Input: R_train (training matrix), R_test (test matrix) and original matrix R\n",
    "    Ouput: Returns two dicts, first with Norm_F(Rk-R) and second with Norm_F(Rk-R_test) and corresponding k\n",
    "    \"\"\"\n",
    "    \n",
    "    nnmf_dict1 = {}\n",
    "    nnmf_dict2 = {}\n",
    "    \n",
    "    #Change ord for different norms\n",
    "    \n",
    "    for i in range(1,50,1):\n",
    "        M,U=nnmf(R_train,i)\n",
    "        R_approx=np.matmul(M,U)\n",
    "        x=np.linalg.norm(np.subtract(R_approx,R_matrix),ord='fro')\n",
    "        R_approx_comp=build_comparison_matrices(R_approx,R_test)\n",
    "        y=np.linalg.norm(np.subtract(R_approx_comp,R_test),ord='fro')   \n",
    "        nnmf_dict1[i] = round(x,1)\n",
    "        nnmf_dict2[i] = round(y,1)\n",
    "        print(\"Rank k =\",i,\"done.\")\n",
    "        print(\"---------------\")\n",
    "        \n",
    "    for i in range(50,301,10):\n",
    "        M,U=nnmf(R_train,i)\n",
    "        R_approx=np.matmul(M,U)\n",
    "        x=np.linalg.norm(np.subtract(R_approx,R_matrix),ord='fro')\n",
    "        R_approx_comp=build_comparison_matrices(R_approx,R_test)\n",
    "        y=np.linalg.norm(np.subtract(R_approx_comp,R_test),ord='fro')   \n",
    "        nnmf_dict1[i] = round(x,1)\n",
    "        nnmf_dict2[i] = round(y,1)\n",
    "        print(\"Rank k =\",i,\"done.\")\n",
    "        print(\"---------------\")\n",
    "        \n",
    "    return nnmf_dict1,nnmf_dict2"
   ]
  },
  {
   "cell_type": "markdown",
   "id": "5fb58515",
   "metadata": {},
   "source": [
    "### Remove comments on the following two code cells to compute plots"
   ]
  },
  {
   "cell_type": "code",
   "execution_count": 39,
   "id": "d27c1d14",
   "metadata": {
    "scrolled": true
   },
   "outputs": [],
   "source": [
    "#nnmf_dic1,nnmf_dic2=nnmf_test(train_set_matrix,test_set_matrix,train_set_matrix)"
   ]
  },
  {
   "cell_type": "code",
   "execution_count": 40,
   "id": "755c8793",
   "metadata": {
    "scrolled": false
   },
   "outputs": [],
   "source": [
    "#print(\"Norm min for test:\",\"k=\", min(nnmf_dic2, key=nnmf_dic2.get), \" norm=\", nnmf_dic2[min(nnmf_dic2, key=nnmf_dic2.get)])\n",
    "#x=list(nnmf_dic1.keys())\n",
    "#y=list(nnmf_dic1.values())\n",
    "#plt.figure(figsize=(20, 10))\n",
    "##plt.plot(x, y)\n",
    "#plt.xlabel('rank(k)')  # Add an x-label to the axes.\n",
    "#plt.xticks(np.arange(0, 310, 20))\n",
    "#plt.ylabel('Norm(k)')  # Add a y-label to the axes.\n",
    "#plt.title(\"Frobenius norm as a function of rank\")  # Add a title to the axes.\n",
    "#x=list(nnmf_dic2.keys())\n",
    "#y=list(nnmf_dic2.values())\n",
    "#plt.plot(x, y)"
   ]
  },
  {
   "cell_type": "code",
   "execution_count": 41,
   "id": "38c738e2",
   "metadata": {},
   "outputs": [],
   "source": [
    "#confirming results of nnmf_test() using sklearn non_negative_factorization()\n",
    "\n",
    "from sklearn.decomposition import non_negative_factorization\n",
    "def nnmf_sk():\n",
    "\n",
    "    nnmfdict1={}\n",
    "    nnmfdict2={}\n",
    "    for i in range (1,51,1):\n",
    "        W, H, n_iter = non_negative_factorization(train_set_matrix, n_components=i,init='random', random_state=0)\n",
    "        WH=np.matmul(W,H)\n",
    "        nnmfdict1[i]=round(np.linalg.norm(np.subtract(WH,train_set_matrix),ord='nuc'),2)\n",
    "        WH_comp=build_comparison_matrices(WH,test_set_matrix)\n",
    "        nnmfdict2[i]=round(np.linalg.norm(np.subtract(WH_comp,test_set_matrix),ord='nuc'),2)\n",
    "        print(\"Run:\",i)\n",
    "        \n",
    "    for i in range (60,311,10):\n",
    "        W, H, n_iter = non_negative_factorization(train_set_matrix, n_components=i,init='random', random_state=0)\n",
    "        WH=np.matmul(W,H)\n",
    "        nnmfdict1[i]=round(np.linalg.norm(np.subtract(WH,train_set_matrix),ord='nuc'),2)\n",
    "        WH_comp=build_comparison_matrices(WH,test_set_matrix)\n",
    "        nnmfdict2[i]=round(np.linalg.norm(np.subtract(WH_comp,test_set_matrix),ord='nuc'),2)\n",
    "        print(\"Run:\",i)\n",
    "        \n",
    "    return nnmfdict1, nnmfdict2"
   ]
  },
  {
   "cell_type": "markdown",
   "id": "69f961be",
   "metadata": {},
   "source": [
    "### Remove comments on the following two code cells to compute plots"
   ]
  },
  {
   "cell_type": "code",
   "execution_count": 42,
   "id": "50fb3613",
   "metadata": {
    "scrolled": true
   },
   "outputs": [],
   "source": [
    "#nnmfdict1, nnmfdict2=nnmf_sk()"
   ]
  },
  {
   "cell_type": "code",
   "execution_count": 43,
   "id": "82a6de46",
   "metadata": {},
   "outputs": [],
   "source": [
    "#print(\"Norm min for test:\",\"k=\", min(nnmfdict2, key=nnmfdict2.get), \" norm=\", nnmfdict2[min(nnmfdict2, key=nnmfdict2.get)])\n",
    "#x=list(nnmfdict1.keys())\n",
    "#y=list(nnmfdict1.values())\n",
    "#plt.figure(figsize=(20, 10))\n",
    "##plt.plot(x, y)\n",
    "#plt.xlabel('rank(k)')  # Add an x-label to the axes.\n",
    "#plt.xticks(np.arange(0, 330, 20))\n",
    "#plt.ylabel('Norm(k)')  # Add a y-label to the axes.\n",
    "#plt.title(\"Frobenius norm as a function of rank\")  # Add a title to the axes.\n",
    "#x=list(nnmfdict2.keys())\n",
    "#y=list(nnmfdict2.values())\n",
    "#plt.plot(x, y)"
   ]
  },
  {
   "cell_type": "markdown",
   "id": "1a1962a4",
   "metadata": {},
   "source": [
    "## Algorithm 1: Recommendation System <a name=\"9\"></a>"
   ]
  },
  {
   "cell_type": "code",
   "execution_count": 44,
   "id": "b8e72152",
   "metadata": {},
   "outputs": [],
   "source": [
    "def recommend_movies_based_on_movie_nnmf(movie_id,R_matrix,unique_movies_list):\n",
    "    \"\"\"\n",
    "    Input: movie_id we want to compare, R_matrix, list with index-movie id correspondence\n",
    "    Ouput: None, however the function prints the top 10 results similar to movie id\n",
    "    \"\"\"\n",
    "    \n",
    "    #sk function\n",
    "    k=16\n",
    "    M,U, n_iter = non_negative_factorization(R_matrix, n_components=k,init='random', random_state=0)\n",
    "    \n",
    "    #nnmf function\n",
    "    #k=13\n",
    "    #M,U=nnmf(R_matrix,k)\n",
    "    \n",
    "    sim = np.zeros(shape=(num_movie_ids,2))\n",
    "    movie_id_index=np.where(unique_movies_list==movie_id)\n",
    "    movie_id_index=int(movie_id_index[0])\n",
    "    \n",
    "    for i in range(num_movie_ids):\n",
    "        sim[i][0]=cosine_sim(M[movie_id_index,:],M[i,:])\n",
    "        sim[i][1]=unique_movies_list[i]\n",
    "    \n",
    "    #sorts from lowest to highest\n",
    "    sim=sim[sim[:, 0].argsort()]\n",
    "    \n",
    "    for i in range(len(movie_list)):\n",
    "        if(int(movie_list[i][0])==movie_id):\n",
    "            print(\"\\nRecommendations similar to:\", movie_list[i][1])\n",
    "    \n",
    "    for i in range(11):\n",
    "        for j in range(len(movie_list)):\n",
    "            #we use sim.shape[0]-(1+i) because sort was lost to high\n",
    "            if(int(sim[sim.shape[0]-(1+i)][1])== int(movie_list[j][0])):\n",
    "                if(i==0):\n",
    "                    print(\"\")\n",
    "                    #print(\"Printing highest to confirm it's working as intended:\",movie_list[j][1],\"Similarity:\", np.round(sim[sim.shape[0]-(1+i)][0],2))\n",
    "                elif (i>0):\n",
    "                    print(i,')', movie_list[j][1],\"Similarity:\", np.round(sim[sim.shape[0]-(1+i)][0],2))\n",
    "    return None"
   ]
  },
  {
   "cell_type": "markdown",
   "id": "45d12550",
   "metadata": {},
   "source": [
    "### Recommendation for movies"
   ]
  },
  {
   "cell_type": "code",
   "execution_count": 45,
   "id": "07bcb93b",
   "metadata": {
    "scrolled": true
   },
   "outputs": [
    {
     "name": "stderr",
     "output_type": "stream",
     "text": [
      "C:\\Users\\telmo\\anaconda3\\lib\\site-packages\\sklearn\\decomposition\\_nmf.py:1090: ConvergenceWarning: Maximum number of iterations 200 reached. Increase it to improve convergence.\n",
      "  warnings.warn(\"Maximum number of iterations %d reached. Increase it to\"\n"
     ]
    },
    {
     "name": "stdout",
     "output_type": "stream",
     "text": [
      "\n",
      "Recommendations similar to: Lord of the Rings: The Fellowship of the Ring. The (2001)\n",
      "\n",
      "1 ) Lord of the Rings: The Two Towers. The (2002) Similarity: 1.0\n",
      "2 ) Lord of the Rings: The Return of the King. The (2003) Similarity: 0.99\n",
      "3 ) Incredibles. The (2004) Similarity: 0.98\n",
      "4 ) Spider-Man 2 (2004) Similarity: 0.98\n",
      "5 ) Fifth Element. The (1997) Similarity: 0.98\n",
      "6 ) Mask of Zorro. The (1998) Similarity: 0.98\n",
      "7 ) X2: X-Men United (2003) Similarity: 0.98\n",
      "8 ) Spider-Man (2002) Similarity: 0.97\n",
      "9 ) Memento (2000) Similarity: 0.97\n",
      "10 ) Silence of the Lambs. The (1991) Similarity: 0.97\n"
     ]
    }
   ],
   "source": [
    "#Lord of the Rings: The Fellowship of the Ring\n",
    "recommend_movies_based_on_movie_nnmf(4993,R_matrix_avg,unique_movies_list)"
   ]
  },
  {
   "cell_type": "code",
   "execution_count": 46,
   "id": "a5acf2ba",
   "metadata": {},
   "outputs": [],
   "source": [
    "def recommend_movies_based_on_user_nnmf(user_id,R_matrix_orig,R_matrix,unique_movies_list):\n",
    "    \"\"\"\n",
    "    Input: user_id we want to predict ratings, R_matrix, list with index-movie id correspondence\n",
    "    Ouput: None, however the function prints the top 10 movies for user with user_id\n",
    "    \"\"\"\n",
    "    \n",
    "    #nnmf function\n",
    "    #k=13\n",
    "    #M,U=nnmf(R_matrix,k)\n",
    "    #Rk=np.matmul(M,U)\n",
    "    \n",
    "    #sk function\n",
    "    k=16\n",
    "    M,U, n_iter = non_negative_factorization(R_matrix, n_components=k,init='random', random_state=0)\n",
    "    Rk=np.matmul(M,U)\n",
    "    \n",
    "    #2d list with ratings obtained from Rk and corresponding movie index\n",
    "    ratings_movieid=np.zeros(shape=(num_movie_ids,2))\n",
    "    \n",
    "    for i in range(num_movie_ids):\n",
    "        #record only unseen movies, i.e. 0 rating on original R matrix\n",
    "        if(R_matrix_orig[i][user_id-1]==0):\n",
    "            ratings_movieid[i][0]=Rk[i][user_id-1]\n",
    "            #getting movie id from index using unique_movies_list\n",
    "            ratings_movieid[i][1]=unique_movies_list[i]\n",
    "    \n",
    "    ratings_movieid=ratings_movieid[ratings_movieid[:, 0].argsort()]\n",
    "    \n",
    "    print(\"\\nExpected ratings for user:\",user_id)\n",
    "    \n",
    "    for i in range(10):\n",
    "        for j in range(len(movie_list)):\n",
    "            if(int(ratings_movieid[ratings_movieid.shape[0]-(i+1)][1])== int(movie_list[j][0])):     \n",
    "                print(i+1,':', movie_list[j][1], \"-> Expected rating:\",np.round(ratings_movieid[ratings_movieid.shape[0]-(i+1)][0],2))\n",
    "                \n",
    "    return None"
   ]
  },
  {
   "cell_type": "markdown",
   "id": "2bd19627",
   "metadata": {},
   "source": [
    "### Recommendation for user"
   ]
  },
  {
   "cell_type": "code",
   "execution_count": 47,
   "id": "7d1bb1a4",
   "metadata": {},
   "outputs": [
    {
     "name": "stdout",
     "output_type": "stream",
     "text": [
      "\n",
      "Expected ratings for user: 134\n",
      "1 : Shawshank Redemption. The (1994) -> Expected rating: 4.54\n",
      "2 : Matrix. The (1999) -> Expected rating: 4.42\n",
      "3 : Star Wars: Episode IV - A New Hope (1977) -> Expected rating: 4.4\n",
      "4 : Godfather. The (1972) -> Expected rating: 4.37\n",
      "5 : Schindler's List (1993) -> Expected rating: 4.35\n",
      "6 : Star Wars: Episode V - The Empire Strikes Back (1980) -> Expected rating: 4.31\n",
      "7 : Fight Club (1999) -> Expected rating: 4.3\n",
      "8 : Dr. Strangelove or: How I Learned to Stop Worrying and Love the Bomb (1964) -> Expected rating: 4.27\n",
      "9 : Apocalypse Now (1979) -> Expected rating: 4.26\n",
      "10 : Princess Bride. The (1987) -> Expected rating: 4.26\n"
     ]
    },
    {
     "name": "stderr",
     "output_type": "stream",
     "text": [
      "C:\\Users\\telmo\\anaconda3\\lib\\site-packages\\sklearn\\decomposition\\_nmf.py:1090: ConvergenceWarning: Maximum number of iterations 200 reached. Increase it to improve convergence.\n",
      "  warnings.warn(\"Maximum number of iterations %d reached. Increase it to\"\n"
     ]
    }
   ],
   "source": [
    "#user 134\n",
    "recommend_movies_based_on_user_nnmf(134,R_matrix_orig,R_matrix_avg,unique_movies_list)"
   ]
  },
  {
   "cell_type": "markdown",
   "id": "fb34cd38",
   "metadata": {},
   "source": [
    "## Algorithm 1: Latent Space Projections <a name=\"10\"></a>"
   ]
  },
  {
   "cell_type": "code",
   "execution_count": 48,
   "id": "87c2ff60",
   "metadata": {},
   "outputs": [],
   "source": [
    "def latent_space_proj_a1(n,R_matrix,unique_movies_list):\n",
    "    \"\"\"\n",
    "    Input: n-> number of movies, R_matrix, unique_movies_list\n",
    "    Ouput: Returns the coords of each movie (for latent space of dim2) and the corresponding movie id\n",
    "    in two separate lists\n",
    "    \"\"\"\n",
    "    \n",
    "    #x-coordinate sigma1\n",
    "    #y-coordinate sigma2\n",
    "    \n",
    "    #nnmf function\n",
    "    #k=13\n",
    "    #M,U=nnmf(R_matrix,k)\n",
    "    \n",
    "    #sk function\n",
    "    k=16\n",
    "    M,U, n_iter = non_negative_factorization(R_matrix, n_components=k,init='random', random_state=0)\n",
    "    \n",
    "    #generate indices of movies\n",
    "    l=np.arange(0,num_movie_ids)\n",
    "    l=np.ndarray.tolist(l)\n",
    "    \n",
    "    #contains the coords of 100 movies\n",
    "    movies_coords=np.zeros(shape=(n,2))\n",
    "    \n",
    "    #Draw n random movies\n",
    "    movie_indices=random.sample(l,n)\n",
    "\n",
    "    movie_indices.sort()\n",
    "    \n",
    "    j=0\n",
    "    for i in movie_indices:\n",
    "        movies_coords[j][0]=M[i][0]\n",
    "        movies_coords[j][1]=M[i][1]\n",
    "        j+=1\n",
    "        \n",
    "    #recover movie ids from indices\n",
    "    movie_ids=[]\n",
    "    for i in movie_indices:\n",
    "        movie_ids.append(unique_movies_list[i])\n",
    "        \n",
    "    return movies_coords, movie_ids"
   ]
  },
  {
   "cell_type": "markdown",
   "id": "aa754760",
   "metadata": {},
   "source": [
    "### Plot of Latent Space for random movies"
   ]
  },
  {
   "cell_type": "code",
   "execution_count": 49,
   "id": "bc4299b7",
   "metadata": {
    "scrolled": false
   },
   "outputs": [
    {
     "name": "stderr",
     "output_type": "stream",
     "text": [
      "C:\\Users\\telmo\\anaconda3\\lib\\site-packages\\sklearn\\decomposition\\_nmf.py:1090: ConvergenceWarning: Maximum number of iterations 200 reached. Increase it to improve convergence.\n",
      "  warnings.warn(\"Maximum number of iterations %d reached. Increase it to\"\n"
     ]
    },
    {
     "data": {
      "text/plain": [
       "<matplotlib.collections.PathCollection at 0x1d8cc30e850>"
      ]
     },
     "execution_count": 49,
     "metadata": {},
     "output_type": "execute_result"
    },
    {
     "data": {
      "image/png": "[encoded data removed]",
      "text/plain": [
       "<Figure size 720x720 with 1 Axes>"
      ]
     },
     "metadata": {
      "needs_background": "light"
     },
     "output_type": "display_data"
    }
   ],
   "source": [
    "#n-> number of movies to plot\n",
    "n=1000\n",
    "#R_matrix_avg/R_matrix_value/R_matrix_orig\n",
    "movie_coords,movie_ids=latent_space_proj_a1(n,R_matrix_value,unique_movies_list)\n",
    "plt.figure(figsize=(10, 10))\n",
    "plt.scatter(movie_coords[:,0], movie_coords[:,1])\n",
    "\n",
    "#prints movie names on points\n",
    "#for i in range(movie_coords.shape[0]):\n",
    "#    for j in range(len(movie_list)):\n",
    "#        if(movie_list[j][0]==str(movie_ids[i])):\n",
    "#            index=j\n",
    "#    plt.text(movie_coords[i][0],movie_coords[i][1],movie_list[index][1])"
   ]
  },
  {
   "cell_type": "code",
   "execution_count": 50,
   "id": "442fc689",
   "metadata": {},
   "outputs": [],
   "source": [
    "def latent_space_proj_nnmf_test(R_matrix,unique_movies_list):\n",
    "    \"\"\"\n",
    "    Input: n-> number of movies, R_matrix, unique_movies_list\n",
    "    Ouput: Returns the coords of each movie (for latent space of dim2) and the corresponding movie id\n",
    "    in two separate lists\n",
    "    \"\"\"\n",
    "    #nnmf_sk()\n",
    "    #k=16\n",
    "    #M,U, n_iter = non_negative_factorization(R_matrix, n_components=k,init='random', random_state=0)\n",
    "    \n",
    "    #nnmf()\n",
    "    k=13\n",
    "    M,U=nnmf(R_matrix,k)\n",
    "    \n",
    "    #change here the number of movies\n",
    "    n=14\n",
    "    movies_coords=np.zeros(shape=(n,2))\n",
    "                           \n",
    "    movie_ids=[]\n",
    "    \n",
    "    ###########################################################################\n",
    "    #Defining specific movies for interpretation\n",
    "    \n",
    "    #sci-fi / fantasy\n",
    "    #Blade Runner (1982)\n",
    "    movie_ids.append(541)\n",
    "    #Star Wars: Episode V - The Empire Strikes Back (1980)\n",
    "    movie_ids.append(1196)\n",
    "    #Matrix. The (1999)                       \n",
    "    movie_ids.append(2571)\n",
    "    #Lord of the Rings: The Fellowship of the Ring. The (2001)                     \n",
    "    movie_ids.append(4993)\n",
    "    #Lord of the Rings: The Two Towers. The (2002)                       \n",
    "    movie_ids.append(5952)\n",
    "    #Lord of the Rings: The Return of the King. The (2003)                       \n",
    "    movie_ids.append(7153)\n",
    "    \n",
    "    #nonfiction\n",
    "    #Dead Man Walking (1995)\n",
    "    movie_ids.append(36)\n",
    "    #Three Billboards Outside Ebbing. Missouri (2017)\n",
    "    movie_ids.append(177593)\n",
    "    \n",
    "    #horror movies\n",
    "    #The Shining (1997)                       \n",
    "    movie_ids.append(180263)\n",
    "    #Babadook. The (2014)                       \n",
    "    movie_ids.append(112515)\n",
    "    #Candyman: Farewell to the Flesh (1995)\n",
    "    movie_ids.append(606)\n",
    "    \n",
    "    #dramas/romance\n",
    "    #Pride and Prejudice (1995)\n",
    "    movie_ids.append(7669)\n",
    "    #Titanic (1997)\n",
    "    movie_ids.append(1721)\n",
    "    \n",
    "    #comedy/animation\n",
    "    #Ice Age (2002)\n",
    "    movie_ids.append(5218)\n",
    "    ###########################################################################\n",
    "    \n",
    "    \n",
    "    #get indices from movie ids\n",
    "    movie_index=[]\n",
    "    \n",
    "    for i in movie_ids:\n",
    "        movie_index.append(int(np.where(unique_movies_list==i)[0]))\n",
    "\n",
    "    j=0\n",
    "    for i in movie_index:\n",
    "        movies_coords[j][0]=M[i][0]\n",
    "        movies_coords[j][1]=M[i][1]\n",
    "        j+=1\n",
    "    \n",
    "    return movies_coords, movie_ids"
   ]
  },
  {
   "cell_type": "markdown",
   "id": "3f8c4fa0",
   "metadata": {},
   "source": [
    "### Plot for specific movies"
   ]
  },
  {
   "cell_type": "code",
   "execution_count": 51,
   "id": "6b9054f4",
   "metadata": {},
   "outputs": [
    {
     "name": "stdout",
     "output_type": "stream",
     "text": [
      "Number of iterations:  69\n",
      "Time taken:  4.13876748085022\n"
     ]
    },
    {
     "data": {
      "image/png": "[encoded data removed]",
      "text/plain": [
       "<Figure size 720x720 with 1 Axes>"
      ]
     },
     "metadata": {
      "needs_background": "light"
     },
     "output_type": "display_data"
    }
   ],
   "source": [
    "movie_coords,movie_ids=latent_space_proj_nnmf_test(R_matrix_avg,unique_movies_list)\n",
    "\n",
    "plt.figure(figsize=(10, 10))\n",
    "plt.scatter(movie_coords[:,0], movie_coords[:,1])\n",
    "\n",
    "#prints movie names on points\n",
    "for i in range(movie_coords.shape[0]):\n",
    "    for j in range(len(movie_list)):\n",
    "        if(movie_list[j][0]==str(movie_ids[i])):\n",
    "            index=j\n",
    "    plt.text(movie_coords[i][0],movie_coords[i][1],movie_list[index][1])"
   ]
  },
  {
   "cell_type": "markdown",
   "id": "9fb4f301",
   "metadata": {},
   "source": [
    "## NNALS: Factorization<a name=\"11\"></a>"
   ]
  },
  {
   "cell_type": "code",
   "execution_count": 52,
   "id": "b271916f",
   "metadata": {},
   "outputs": [],
   "source": [
    "def NNALS(R_train,k):\n",
    "    \"\"\"\n",
    "    Input: \n",
    "    Ouput: \n",
    "    \"\"\"\n",
    "    a=time.time()\n",
    "    M=np.random.random((R_train.shape[0],k))\n",
    "    U=np.random.random((k,R_train.shape[1]))\n",
    "    err=10\n",
    "    c=0\n",
    "    R0=np.matmul(M,U)\n",
    "    \n",
    "    while (err>1):\n",
    "        # Determine H by least squares, return of np.linalg.lstsq -> (x,residuals,rank,sing.values)\n",
    "        U = np.linalg.lstsq(M, R_train, rcond=-1)[0]\n",
    "        \n",
    "        # Set negative values of H to 0\n",
    "        U[U<0]=0\n",
    "        \n",
    "        # Determine W by least squares\n",
    "        M = np.linalg.lstsq(U.T, R_train.T, rcond=-1)[0].T\n",
    "        \n",
    "        # Set negative values of W to 0\n",
    "        M[M<0]=0\n",
    "        \n",
    "        R1=np.matmul(M,U)\n",
    "        err=np.linalg.norm(np.subtract(R0,R1),ord='fro')\n",
    "        R0=R1\n",
    "        c+=1\n",
    "        \n",
    "    b=time.time()-a\n",
    "    print(\"Number of iterations: \", c)\n",
    "    print(\"Time taken: \", b)\n",
    "    \n",
    "    return M, U"
   ]
  },
  {
   "cell_type": "markdown",
   "id": "d0d0464d",
   "metadata": {},
   "source": [
    "## NNALS: Recontruction Errors<a name=\"12\"></a>"
   ]
  },
  {
   "cell_type": "code",
   "execution_count": 53,
   "id": "ae395e18",
   "metadata": {},
   "outputs": [],
   "source": [
    "def NNALS_comparison(R_matrix,R_train,R_test,l=0.1):\n",
    "    \"\"\"\n",
    "    Input: \n",
    "    Ouput:\n",
    "    \"\"\"\n",
    "\n",
    "    als_dict1 = {}\n",
    "    als_dict2 = {}\n",
    "    \n",
    "    #Change ord for different norms\n",
    "    \n",
    "    for i in range(1,50,1):\n",
    "        M,U=NNALS(train_set_matrix,i)\n",
    "        R_approx=np.matmul(M,U)\n",
    "        x=np.linalg.norm(np.subtract(R_approx,R_matrix),ord='fro')\n",
    "        R_approx_comp=build_comparison_matrices(R_approx,R_test)\n",
    "        y=np.linalg.norm(np.subtract(R_approx_comp,R_test),ord='fro')   \n",
    "        als_dict1[i] = round(x,1)\n",
    "        als_dict2[i] = round(y,1)\n",
    "        print(\"Rank k =\",i,\"done.\")\n",
    "        print(\"---------------\")\n",
    "        \n",
    "    for i in range(50,310,10):\n",
    "        M,U=NNALS(train_set_matrix,i)\n",
    "        R_approx=np.matmul(M,U)\n",
    "        x=np.linalg.norm(np.subtract(R_approx,R_matrix),ord='fro')\n",
    "        R_approx_comp=build_comparison_matrices(R_approx,R_test)\n",
    "        y=np.linalg.norm(np.subtract(R_approx_comp,R_test),ord='fro')   \n",
    "        als_dict1[i] = round(x,1)\n",
    "        als_dict2[i] = round(y,1)\n",
    "        print(\"Rank k =\",i,\"done.\")\n",
    "        print(\"---------------\")\n",
    "    \n",
    "    return als_dict1, als_dict2"
   ]
  },
  {
   "cell_type": "markdown",
   "id": "29f8c8cf",
   "metadata": {},
   "source": [
    "### Remove comments on the following two code cells to compute plots"
   ]
  },
  {
   "cell_type": "code",
   "execution_count": 54,
   "id": "d39145e3",
   "metadata": {
    "scrolled": true
   },
   "outputs": [],
   "source": [
    "#als_dict1,als_dict2=NNALS_comparison(R_matrix_value,train_set_matrix,test_set_matrix)\n",
    "#print(\"Norm min for test:\",\"k=\", min(als_dict2, key=als_dict2.get), \" norm=\", als_dict2[min(als_dict2, key=als_dict2.get)])"
   ]
  },
  {
   "cell_type": "code",
   "execution_count": 55,
   "id": "7a26ee47",
   "metadata": {},
   "outputs": [],
   "source": [
    "##plot specifications\n",
    "#x=list(als_dict1.keys())\n",
    "#y=list(als_dict1.values())\n",
    "#print(\"Norm min for test:\",\"k=\", min(als_dict2, key=als_dict2.get), \" norm=\", als_dict2[min(als_dict2, key=als_dict2.get)])\n",
    "#plt.figure(figsize=(20, 10))\n",
    "#plt.plot(x, y)\n",
    "#plt.xlabel('rank(k)')  # Add an x-label to the axes.\n",
    "#plt.xticks(np.arange(min(x)-1, 620, 20.0))\n",
    "#plt.ylabel('Norm(k)')  # Add a y-label to the axes.\n",
    "#plt.title(\"Nuclear norm as a function of rank\")  # Add a title to the axes.\n",
    "##plt.title(\"Nuclear norm as a function of rank\")  # Add a title to the axes.\n",
    "#x=list(als_dict2.keys())\n",
    "#y=list(als_dict2.values())\n",
    "#plt.plot(x, y)"
   ]
  },
  {
   "cell_type": "markdown",
   "id": "bbbe6514",
   "metadata": {},
   "source": [
    "## NNALS: Recommendation System<a name=\"13\"></a>"
   ]
  },
  {
   "cell_type": "code",
   "execution_count": 56,
   "id": "7573e6b6",
   "metadata": {},
   "outputs": [],
   "source": [
    "def recommend_movies_based_on_movie_nnals(movie_id,R_matrix,unique_movies_list):\n",
    "    \"\"\"\n",
    "    Input: movie_id we want to compare, R_matrix, list with index-movie id correspondence\n",
    "    Ouput: None, however the function prints the top 10 results similar to movie id\n",
    "    \"\"\"\n",
    "    \n",
    "    k=9\n",
    "    M,U=NNALS(R_matrix,k)\n",
    "    \n",
    "    sim = np.zeros(shape=(num_movie_ids,2))\n",
    "    movie_id_index=np.where(unique_movies_list==movie_id)\n",
    "    movie_id_index=int(movie_id_index[0])\n",
    "    \n",
    "    for i in range(num_movie_ids):\n",
    "        sim[i][0]=cosine_sim(M[movie_id_index,:],M[i,:])\n",
    "        sim[i][1]=unique_movies_list[i]\n",
    "    \n",
    "    #sorts from lowest to highest\n",
    "    sim=sim[sim[:, 0].argsort()]\n",
    "    \n",
    "    for i in range(len(movie_list)):\n",
    "        if(int(movie_list[i][0])==movie_id):\n",
    "            print(\"\\nRecommendations similar to:\", movie_list[i][1])\n",
    "    \n",
    "    for i in range(11):\n",
    "        for j in range(len(movie_list)):\n",
    "            #we use sim.shape[0]-(1+i) because sort was lost to high\n",
    "            if(int(sim[sim.shape[0]-(1+i)][1])== int(movie_list[j][0])):\n",
    "                if(i==0):\n",
    "                    print(\"\")\n",
    "                    #print(\"Printing highest to confirm it's working as intended:\",movie_list[j][1],\"Similarity:\", np.round(sim[sim.shape[0]-(1+i)][0],2))\n",
    "                elif (i>0):\n",
    "                    print(i,')', movie_list[j][1],\"Similarity:\", np.round(sim[sim.shape[0]-(1+i)][0],10))\n",
    "    return sim"
   ]
  },
  {
   "cell_type": "code",
   "execution_count": 57,
   "id": "ec5c3b15",
   "metadata": {},
   "outputs": [
    {
     "name": "stdout",
     "output_type": "stream",
     "text": [
      "Number of iterations:  102\n",
      "Time taken:  18.835147857666016\n",
      "\n",
      "Recommendations similar to: Lord of the Rings: The Fellowship of the Ring. The (2001)\n",
      "\n",
      "1 ) Matrix Reloaded. The (2003) Similarity: 0.9973137231\n",
      "2 ) Bourne Supremacy. The (2004) Similarity: 0.996589979\n",
      "3 ) Island. The (2005) Similarity: 0.9955285957\n",
      "4 ) Equilibrium (2002) Similarity: 0.9952933172\n",
      "5 ) Collateral (2004) Similarity: 0.9947232648\n",
      "6 ) Last Samurai. The (2003) Similarity: 0.9945244622\n",
      "7 ) Red Dragon (2002) Similarity: 0.9938100466\n",
      "8 ) Boondock Saints. The (2000) Similarity: 0.9934267479\n",
      "9 ) Black Hawk Down (2001) Similarity: 0.9929337124\n",
      "10 ) Cube (1997) Similarity: 0.9928832699\n"
     ]
    }
   ],
   "source": [
    "#Lord of the Rings: The Fellowship of the Ring\n",
    "sim=recommend_movies_based_on_movie_nnals(4993,R_matrix_value,unique_movies_list)"
   ]
  },
  {
   "cell_type": "code",
   "execution_count": 58,
   "id": "38428232",
   "metadata": {},
   "outputs": [],
   "source": [
    "def recommend_movies_based_on_user_nnals(user_id,R_matrix,unique_movies_list):\n",
    "    \"\"\"\n",
    "    Input: user_id we want to predict ratings, R_matrix, list with index-movie id correspondence\n",
    "    Ouput: None, however the function prints the top 10 movies for user with user_id\n",
    "    \"\"\"\n",
    "    \n",
    "    k=9\n",
    "    M,U,=NNALS(R_matrix,k)\n",
    "    \n",
    "    Rk=np.matmul(M,U)\n",
    "    \n",
    "    #2d list with ratings obtained from Rk and corresponding movie index\n",
    "    ratings_movieid=np.zeros(shape=(num_movie_ids,2))\n",
    "    \n",
    "    for i in range(num_movie_ids):\n",
    "        #record only unseen movies, i.e. 0 rating on original R matrix\n",
    "        if(R_matrix_orig[i][user_id-1]==0):\n",
    "            ratings_movieid[i][0]=Rk[i][user_id-1]\n",
    "            #getting movie id from index using unique_movies_list\n",
    "            ratings_movieid[i][1]=unique_movies_list[i]\n",
    "    \n",
    "    ratings_movieid=ratings_movieid[ratings_movieid[:, 0].argsort()]\n",
    "    \n",
    "    print(\"\\nExpected ratings for user:\",user_id)\n",
    "    \n",
    "    for i in range(10):\n",
    "        for j in range(len(movie_list)):\n",
    "            if(int(ratings_movieid[ratings_movieid.shape[0]-(i+1)][1])== int(movie_list[j][0])):     \n",
    "                print(i+1,':', movie_list[j][1], \"-> Expected rating:\",np.round(ratings_movieid[ratings_movieid.shape[0]-(i+1)][0],2))\n",
    "                \n",
    "    return None"
   ]
  },
  {
   "cell_type": "code",
   "execution_count": 59,
   "id": "95055bb2",
   "metadata": {},
   "outputs": [
    {
     "name": "stdout",
     "output_type": "stream",
     "text": [
      "Number of iterations:  656\n",
      "Time taken:  118.16658997535706\n",
      "\n",
      "Expected ratings for user: 134\n",
      "1 : Shawshank Redemption. The (1994) -> Expected rating: 4.43\n",
      "2 : Streetcar Named Desire. A (1951) -> Expected rating: 4.27\n",
      "3 : Departed. The (2006) -> Expected rating: 4.26\n",
      "4 : Godfather. The (1972) -> Expected rating: 4.26\n",
      "5 : Princess Bride. The (1987) -> Expected rating: 4.24\n",
      "6 : Fight Club (1999) -> Expected rating: 4.24\n",
      "7 : Forrest Gump (1994) -> Expected rating: 4.23\n",
      "8 : Schindler's List (1993) -> Expected rating: 4.22\n",
      "9 : Dark Knight. The (2008) -> Expected rating: 4.22\n",
      "10 : Casablanca (1942) -> Expected rating: 4.22\n"
     ]
    }
   ],
   "source": [
    "#user 134\n",
    "recommend_movies_based_on_user_nnals(134,R_matrix_avg,unique_movies_list)"
   ]
  },
  {
   "cell_type": "markdown",
   "id": "55e1c164",
   "metadata": {},
   "source": [
    "## NNALS: Latent Space Projections<a name=\"14\"></a>"
   ]
  },
  {
   "cell_type": "code",
   "execution_count": 60,
   "id": "d6d2126d",
   "metadata": {},
   "outputs": [],
   "source": [
    "def latent_space_proj_nnals(n,R_matrix,unique_movies_list):\n",
    "    \"\"\"\n",
    "    Input: n-> number of movies, R_matrix, unique_movies_list\n",
    "    Ouput: Returns the coords of each movie (for latent space of dim2) and the corresponding movie id\n",
    "    in two separate lists\n",
    "    \"\"\"\n",
    "    \n",
    "    #x-coordinate sigma1\n",
    "    #y-coordinate sigma2\n",
    "\n",
    "    k=9\n",
    "    M,U=NNALS(R_matrix,k)\n",
    "    \n",
    "    #generate indices of movies\n",
    "    l=np.arange(0,num_movie_ids)\n",
    "    l=np.ndarray.tolist(l)\n",
    "    \n",
    "    #contains the coords of 100 movies\n",
    "    movies_coords=np.zeros(shape=(n,2))\n",
    "    \n",
    "    #Draw n random movies\n",
    "    movie_indices=random.sample(l,n)\n",
    "\n",
    "    movie_indices.sort()\n",
    "    \n",
    "    j=0\n",
    "    for i in movie_indices:\n",
    "        movies_coords[j][0]=M[i][0]\n",
    "        movies_coords[j][1]=M[i][1]\n",
    "        j+=1\n",
    "        \n",
    "    #recover movie ids from indices\n",
    "    movie_ids=[]\n",
    "    for i in movie_indices:\n",
    "        movie_ids.append(unique_movies_list[i])\n",
    "        \n",
    "    return movies_coords, movie_ids"
   ]
  },
  {
   "cell_type": "markdown",
   "id": "9c105ec7",
   "metadata": {},
   "source": [
    "### Plot for random movies"
   ]
  },
  {
   "cell_type": "code",
   "execution_count": 61,
   "id": "be32f0c1",
   "metadata": {},
   "outputs": [
    {
     "name": "stdout",
     "output_type": "stream",
     "text": [
      "Number of iterations:  62\n",
      "Time taken:  10.799883365631104\n"
     ]
    },
    {
     "data": {
      "text/plain": [
       "<matplotlib.collections.PathCollection at 0x1d8cc3f25e0>"
      ]
     },
     "execution_count": 61,
     "metadata": {},
     "output_type": "execute_result"
    },
    {
     "data": {
      "image/png": "[encoded data removed]",
      "text/plain": [
       "<Figure size 720x720 with 1 Axes>"
      ]
     },
     "metadata": {
      "needs_background": "light"
     },
     "output_type": "display_data"
    }
   ],
   "source": [
    "#n-> number of movies to plot\n",
    "n=100\n",
    "#R_matrix_avg/R_matrix_value/R_matrix_orig\n",
    "movie_coords,movie_ids=latent_space_proj_nnals(n,R_matrix_value,unique_movies_list)\n",
    "plt.figure(figsize=(10, 10))\n",
    "plt.scatter(movie_coords[:,0], movie_coords[:,1])\n",
    "\n",
    "#prints movie names on points\n",
    "#for i in range(movie_coords.shape[0]):\n",
    "#    for j in range(len(movie_list)):\n",
    "#        if(movie_list[j][0]==str(movie_ids[i])):\n",
    "#            index=j\n",
    "#    plt.text(movie_coords[i][0],movie_coords[i][1],movie_list[index][1])"
   ]
  },
  {
   "cell_type": "code",
   "execution_count": 62,
   "id": "1f4ed9de",
   "metadata": {},
   "outputs": [],
   "source": [
    "def latent_space_proj_nnals_test(R_matrix,unique_movies_list):\n",
    "    \"\"\"\n",
    "    Input: n-> number of movies, R_matrix, unique_movies_list\n",
    "    Ouput: Returns the coords of each movie (for latent space of dim2) and the corresponding movie id\n",
    "    in two separate lists\n",
    "    \"\"\"\n",
    "\n",
    "    k=9\n",
    "    M,U=NNALS(R_matrix,k)\n",
    "    \n",
    "    #change here the number of movies\n",
    "    n=14\n",
    "    movies_coords=np.zeros(shape=(n,2))\n",
    "                           \n",
    "    movie_ids=[]\n",
    "    \n",
    "    ###########################################################################\n",
    "    #Defining specific movies for interpretation\n",
    "    \n",
    "    #sci-fi / fantasy\n",
    "    #Blade Runner (1982)\n",
    "    movie_ids.append(541)\n",
    "    #Star Wars: Episode V - The Empire Strikes Back (1980)\n",
    "    movie_ids.append(1196)\n",
    "    #Matrix. The (1999)                       \n",
    "    movie_ids.append(2571)\n",
    "    #Lord of the Rings: The Fellowship of the Ring. The (2001)                     \n",
    "    movie_ids.append(4993)\n",
    "    #Lord of the Rings: The Two Towers. The (2002)                       \n",
    "    movie_ids.append(5952)\n",
    "    #Lord of the Rings: The Return of the King. The (2003)                       \n",
    "    movie_ids.append(7153)\n",
    "    \n",
    "    #nonfiction\n",
    "    #Dead Man Walking (1995)\n",
    "    movie_ids.append(36)\n",
    "    #Three Billboards Outside Ebbing. Missouri (2017)\n",
    "    movie_ids.append(177593)\n",
    "    \n",
    "    #horror movies\n",
    "    #The Shining (1997)                       \n",
    "    movie_ids.append(180263)\n",
    "    #Babadook. The (2014)                       \n",
    "    movie_ids.append(112515)\n",
    "    #Candyman: Farewell to the Flesh (1995)\n",
    "    movie_ids.append(606)\n",
    "    \n",
    "    #dramas/romance\n",
    "    #Pride and Prejudice (1995)\n",
    "    movie_ids.append(7669)\n",
    "    #Titanic (1997)\n",
    "    movie_ids.append(1721)\n",
    "    \n",
    "    #comedy/animation\n",
    "    #Ice Age (2002)\n",
    "    movie_ids.append(5218)\n",
    "    ###########################################################################\n",
    "    \n",
    "    \n",
    "    #get indices from movie ids\n",
    "    movie_index=[]\n",
    "    \n",
    "    for i in movie_ids:\n",
    "        movie_index.append(int(np.where(unique_movies_list==i)[0]))\n",
    "\n",
    "    j=0\n",
    "    for i in movie_index:\n",
    "        movies_coords[j][0]=M[i][0]\n",
    "        movies_coords[j][1]=M[i][1]\n",
    "        j+=1\n",
    "    \n",
    "    return movies_coords, movie_ids"
   ]
  },
  {
   "cell_type": "markdown",
   "id": "ff96b9e7",
   "metadata": {},
   "source": [
    "### Plot for specific movies"
   ]
  },
  {
   "cell_type": "code",
   "execution_count": 64,
   "id": "833a86f5",
   "metadata": {},
   "outputs": [
    {
     "name": "stdout",
     "output_type": "stream",
     "text": [
      "Number of iterations:  94\n",
      "Time taken:  16.574142456054688\n"
     ]
    },
    {
     "data": {
      "image/png": "[encoded data removed]",
      "text/plain": [
       "<Figure size 720x720 with 1 Axes>"
      ]
     },
     "metadata": {
      "needs_background": "light"
     },
     "output_type": "display_data"
    }
   ],
   "source": [
    "movie_coords,movie_ids=latent_space_proj_nnals_test(R_matrix_value,unique_movies_list)\n",
    "\n",
    "plt.figure(figsize=(10, 10))\n",
    "plt.scatter(movie_coords[:,0], movie_coords[:,1])\n",
    "\n",
    "#prints movie names on points\n",
    "for i in range(movie_coords.shape[0]):\n",
    "    for j in range(len(movie_list)):\n",
    "        if(movie_list[j][0]==str(movie_ids[i])):\n",
    "            index=j\n",
    "    plt.text(movie_coords[i][0],movie_coords[i][1],movie_list[index][1])"
   ]
  },
  {
   "cell_type": "code",
   "execution_count": null,
   "id": "5af14132",
   "metadata": {},
   "outputs": [],
   "source": []
  }
 ],
 "metadata": {
  "kernelspec": {
   "display_name": "Python 3 (ipykernel)",
   "language": "python",
   "name": "python3"
  },
  "language_info": {
   "codemirror_mode": {
    "name": "ipython",
    "version": 3
   },
   "file_extension": ".py",
   "mimetype": "text/x-python",
   "name": "python",
   "nbconvert_exporter": "python",
   "pygments_lexer": "ipython3",
   "version": "3.9.7"
  }
 },
 "nbformat": 4,
 "nbformat_minor": 5
}
